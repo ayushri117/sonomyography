{
 "cells": [
  {
   "cell_type": "code",
   "execution_count": 2,
   "metadata": {},
   "outputs": [],
   "source": [
    "import cv2\n",
    "import pandas\n",
    "import os\n",
    "import glob\n",
    "import numpy as np\n",
    "import seaborn as sns\n",
    "from sklearn import preprocessing\n",
    "from sklearn.neighbors import KNeighborsClassifier\n",
    "from sklearn.metrics import accuracy_score,classification_report, confusion_matrix"
   ]
  },
  {
   "cell_type": "code",
   "execution_count": null,
   "metadata": {},
   "outputs": [],
   "source": [
    "print(os.listdir(\"Ayush_us_data/\"))"
   ]
  },
  {
   "cell_type": "code",
   "execution_count": null,
   "metadata": {},
   "outputs": [],
   "source": [
    "train_labels=[]\n",
    "train_rest=[]\n",
    "train_wrist=[]\n",
    "train_point=[]\n",
    "train_power=[]\n",
    "rest=cv2.imread(\"./Ayush_us_data/avg_frame/rest.jpg\",cv2.IMREAD_GRAYSCALE)\n",
    "point=cv2.imread(\"./Ayush_us_data/avg_frame/point.jpg\",cv2.IMREAD_GRAYSCALE)\n",
    "wrist=cv2.imread(\"./Ayush_us_data/avg_frame/wrist.jpg\",cv2.IMREAD_GRAYSCALE)\n",
    "power=cv2.imread(\"./Ayush_us_data/avg_frame/power.jpg\",cv2.IMREAD_GRAYSCALE)\n",
    "\n",
    "\n",
    "def correlation_img(frame1,frame2):\n",
    "    m1=np.mean(frame1)\n",
    "    m2=np.mean(frame2)\n",
    "    num1=np.sum(np.multiply(np.subtract(frame1,m1),np.subtract(frame2,m2)))\n",
    "    den1=np.sum(np.multiply(np.emath.sqrt(np.square(np.subtract(frame1,m1))),np.emath.sqrt(np.square(np.subtract(frame2,m2)))))\n",
    "    return (num1/den1)"
   ]
  },
  {
   "cell_type": "code",
   "execution_count": null,
   "metadata": {},
   "outputs": [
    {
     "name": "stdout",
     "output_type": "stream",
     "text": [
      "point\n",
      "power\n",
      "rest\n",
      "wrist\n"
     ]
    }
   ],
   "source": [
    "for dir in glob.glob(\"Ayush_us_data/train/*\"):\n",
    "    label=dir.split(\"/\")[-1]\n",
    "    print(label)\n",
    "    for img_name in os.listdir(dir):\n",
    "        path=os.path.join(dir,img_name)       \n",
    "        img=cv2.imread(path, cv2.IMREAD_GRAYSCALE)\n",
    "        corr_rest=correlation_img(rest,img)\n",
    "        corr_power=correlation_img(power,img)\n",
    "        corr_wrist=correlation_img(wrist,img)\n",
    "        corr_point=correlation_img(point,img)\n",
    "        train_labels.append(label)\n",
    "        train_point.append(corr_point)\n",
    "        train_power.append(corr_power)\n",
    "        train_wrist.append(corr_wrist)\n",
    "        train_rest.append(corr_rest)\n",
    "\n",
    "train_point=np.array(train_point)\n",
    "train_rest=np.array(train_rest)\n",
    "train_wrist=np.array(train_wrist)\n",
    "train_power=np.array(train_power)\n",
    "train_labels=np.array(train_labels)"
   ]
  },
  {
   "cell_type": "code",
   "execution_count": null,
   "metadata": {},
   "outputs": [],
   "source": [
    "test_labels=[]\n",
    "test_rest=[]\n",
    "test_wrist=[]\n",
    "test_point=[]\n",
    "test_power=[]"
   ]
  },
  {
   "cell_type": "code",
   "execution_count": null,
   "metadata": {},
   "outputs": [
    {
     "name": "stdout",
     "output_type": "stream",
     "text": [
      "Ayush_us_data/test/point\n",
      "Ayush_us_data/test/power\n",
      "Ayush_us_data/test/rest\n",
      "Ayush_us_data/test/wrist\n"
     ]
    }
   ],
   "source": [
    "for t_dir in glob.glob(\"Ayush_us_data/test/*\"):\n",
    "    t_label=t_dir.split(\"/\")[-1]\n",
    "    print(t_dir)\n",
    "    for t_img_name in os.listdir(t_dir):\n",
    "        t_path=os.path.join(t_dir,t_img_name)\n",
    "        t_img=cv2.imread(t_path, cv2.IMREAD_GRAYSCALE)\n",
    "        t_corr_rest=correlation_img(rest,t_img)\n",
    "        t_corr_power=correlation_img(power,t_img)\n",
    "        t_corr_wrist=correlation_img(wrist,t_img)\n",
    "        t_corr_point=correlation_img(point,t_img)\n",
    "        test_labels.append(t_label)\n",
    "        test_point.append(t_corr_point)\n",
    "        test_power.append(t_corr_power)\n",
    "        test_wrist.append(t_corr_wrist)\n",
    "        test_rest.append(t_corr_rest)\n",
    "\n",
    "\n",
    "test_point=np.array(test_point)\n",
    "test_rest=np.array(test_rest)\n",
    "test_wrist=np.array(test_wrist)\n",
    "test_power=np.array(test_power)\n",
    "test_labels=np.array(test_labels)"
   ]
  },
  {
   "cell_type": "code",
   "execution_count": null,
   "metadata": {},
   "outputs": [],
   "source": []
  },
  {
   "cell_type": "code",
   "execution_count": null,
   "metadata": {},
   "outputs": [],
   "source": []
  },
  {
   "cell_type": "code",
   "execution_count": null,
   "metadata": {},
   "outputs": [],
   "source": [
    "encoder=preprocessing.LabelEncoder()\n",
    "encoder.fit(test_labels)\n",
    "encoded_test_labels=encoder.transform(test_labels)\n",
    "encoder.fit(train_labels)\n",
    "encoded_train_labels=encoder.transform(train_labels)"
   ]
  },
  {
   "cell_type": "code",
   "execution_count": null,
   "metadata": {},
   "outputs": [],
   "source": []
  },
  {
   "cell_type": "code",
   "execution_count": null,
   "metadata": {},
   "outputs": [],
   "source": [
    "df_train=pandas.DataFrame()\n",
    "df_train['label']=train_labels\n",
    "df_train['power']=train_power\n",
    "df_train['rest']=train_rest\n",
    "df_train['point']=train_point\n",
    "df_train['wrist']=train_wrist\n"
   ]
  },
  {
   "cell_type": "code",
   "execution_count": null,
   "metadata": {},
   "outputs": [],
   "source": [
    "df_test=pandas.DataFrame()\n",
    "df_test['label']=encoded_test_labels\n",
    "df_test['power']=test_power\n",
    "df_test['rest']=test_rest\n",
    "df_test['point']=test_point\n",
    "df_test['wrist']=test_wrist\n"
   ]
  },
  {
   "cell_type": "code",
   "execution_count": null,
   "metadata": {},
   "outputs": [],
   "source": []
  },
  {
   "cell_type": "code",
   "execution_count": null,
   "metadata": {},
   "outputs": [],
   "source": []
  },
  {
   "cell_type": "code",
   "execution_count": null,
   "metadata": {},
   "outputs": [],
   "source": [
    "x_data = df_train.drop(['label'],axis=1)\n",
    "y_data=df_train['label']\n",
    "x_test=df_test.drop(['label'],axis=1)\n",
    "y_test=df_test['label']"
   ]
  },
  {
   "cell_type": "code",
   "execution_count": null,
   "metadata": {},
   "outputs": [],
   "source": [
    "knn_clf=KNeighborsClassifier()\n",
    "knn_clf.fit(x_data,y_data)\n",
    "ypred=knn_clf.predict(x_test)"
   ]
  },
  {
   "cell_type": "code",
   "execution_count": null,
   "metadata": {},
   "outputs": [],
   "source": [
    "result=accuracy_score(y_test,ypred)\n",
    "print(result)"
   ]
  },
  {
   "cell_type": "code",
   "execution_count": null,
   "metadata": {},
   "outputs": [],
   "source": [
    "conf_matrix=confusion_matrix(y_test,ypred)"
   ]
  },
  {
   "cell_type": "code",
   "execution_count": null,
   "metadata": {},
   "outputs": [],
   "source": [
    "sns.heatmap(conf_matrix, annot=True)"
   ]
  }
 ],
 "metadata": {
  "kernelspec": {
   "display_name": "Python 3",
   "language": "python",
   "name": "python3"
  },
  "language_info": {
   "codemirror_mode": {
    "name": "ipython",
    "version": 3
   },
   "file_extension": ".py",
   "mimetype": "text/x-python",
   "name": "python",
   "nbconvert_exporter": "python",
   "pygments_lexer": "ipython3",
   "version": "3.10.9"
  },
  "orig_nbformat": 4,
  "vscode": {
   "interpreter": {
    "hash": "e7370f93d1d0cde622a1f8e1c04877d8463912d04d973331ad4851f04de6915a"
   }
  }
 },
 "nbformat": 4,
 "nbformat_minor": 2
}
