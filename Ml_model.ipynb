{
 "cells": [
  {
   "cell_type": "code",
   "execution_count": 55,
   "metadata": {},
   "outputs": [],
   "source": [
    "import cv2\n",
    "import pandas\n",
    "import os\n",
    "import glob\n",
    "import numpy as np\n",
    "import seaborn as sns\n",
    "from sklearn import preprocessing\n",
    "from sklearn.neighbors import KNeighborsClassifier\n",
    "from sklearn.metrics import accuracy_score,classification_report, confusion_matrix"
   ]
  },
  {
   "cell_type": "code",
   "execution_count": 56,
   "metadata": {},
   "outputs": [
    {
     "name": "stdout",
     "output_type": "stream",
     "text": [
      "['train', 'test', 'avg_frame']\n"
     ]
    }
   ],
   "source": [
    "print(os.listdir(\"Ayush_us_data/\"))"
   ]
  },
  {
   "cell_type": "code",
   "execution_count": 57,
   "metadata": {},
   "outputs": [],
   "source": [
    "train_labels=[]\n",
    "train_rest=[]\n",
    "train_wrist=[]\n",
    "train_point=[]\n",
    "train_power=[]\n",
    "rest=cv2.imread(\"./Ayush_us_data/avg_frame/rest.jpg\",cv2.IMREAD_GRAYSCALE)\n",
    "point=cv2.imread(\"./Ayush_us_data/avg_frame/point.jpg\",cv2.IMREAD_GRAYSCALE)\n",
    "wrist=cv2.imread(\"./Ayush_us_data/avg_frame/wrist.jpg\",cv2.IMREAD_GRAYSCALE)\n",
    "power=cv2.imread(\"./Ayush_us_data/avg_frame/power.jpg\",cv2.IMREAD_GRAYSCALE)\n",
    "\n",
    "\n",
    "def correlation_img(frame1,frame2):\n",
    "    m1=np.mean(frame1)\n",
    "    m2=np.mean(frame2)\n",
    "    num1=np.sum(np.multiply(np.subtract(frame1,m1),np.subtract(frame2,m2)))\n",
    "    den1=np.sum(np.multiply(np.emath.sqrt(np.square(np.subtract(frame1,m1))),np.emath.sqrt(np.square(np.subtract(frame2,m2)))))\n",
    "    return (num1/den1)"
   ]
  },
  {
   "cell_type": "code",
   "execution_count": 58,
   "metadata": {},
   "outputs": [
    {
     "name": "stdout",
     "output_type": "stream",
     "text": [
      "point\n",
      "power\n",
      "rest\n",
      "wrist\n"
     ]
    }
   ],
   "source": [
    "for dir in glob.glob(\"Ayush_us_data/train/*\"):\n",
    "    label=dir.split(\"/\")[-1]\n",
    "    print(label)\n",
    "    for img_name in os.listdir(dir):\n",
    "        path=os.path.join(dir,img_name)       \n",
    "        img=cv2.imread(path, cv2.IMREAD_GRAYSCALE)\n",
    "        corr_rest=correlation_img(rest,img)\n",
    "        corr_power=correlation_img(power,img)\n",
    "        corr_wrist=correlation_img(wrist,img)\n",
    "        corr_point=correlation_img(point,img)\n",
    "        train_labels.append(label)\n",
    "        train_point.append(corr_point)\n",
    "        train_power.append(corr_power)\n",
    "        train_wrist.append(corr_wrist)\n",
    "        train_rest.append(corr_rest)\n",
    "\n",
    "train_point=np.array(train_point)\n",
    "train_rest=np.array(train_rest)\n",
    "train_wrist=np.array(train_wrist)\n",
    "train_power=np.array(train_power)\n",
    "train_labels=np.array(train_labels)"
   ]
  },
  {
   "cell_type": "code",
   "execution_count": 59,
   "metadata": {},
   "outputs": [],
   "source": [
    "test_labels=[]\n",
    "test_rest=[]\n",
    "test_wrist=[]\n",
    "test_point=[]\n",
    "test_power=[]"
   ]
  },
  {
   "cell_type": "code",
   "execution_count": 60,
   "metadata": {},
   "outputs": [
    {
     "name": "stdout",
     "output_type": "stream",
     "text": [
      "Ayush_us_data/test/point\n",
      "Ayush_us_data/test/power\n",
      "Ayush_us_data/test/rest\n",
      "Ayush_us_data/test/wrist\n"
     ]
    }
   ],
   "source": [
    "for t_dir in glob.glob(\"Ayush_us_data/test/*\"):\n",
    "    t_label=t_dir.split(\"/\")[-1]\n",
    "    print(t_dir)\n",
    "    for t_img_name in os.listdir(t_dir):\n",
    "        t_path=os.path.join(t_dir,t_img_name)\n",
    "        t_img=cv2.imread(t_path, cv2.IMREAD_GRAYSCALE)\n",
    "        t_corr_rest=correlation_img(rest,t_img)\n",
    "        t_corr_power=correlation_img(power,t_img)\n",
    "        t_corr_wrist=correlation_img(wrist,t_img)\n",
    "        t_corr_point=correlation_img(point,t_img)\n",
    "        test_labels.append(t_label)\n",
    "        test_point.append(t_corr_point)\n",
    "        test_power.append(t_corr_power)\n",
    "        test_wrist.append(t_corr_wrist)\n",
    "        test_rest.append(t_corr_rest)\n",
    "\n",
    "\n",
    "test_point=np.array(test_point)\n",
    "test_rest=np.array(test_rest)\n",
    "test_wrist=np.array(test_wrist)\n",
    "test_power=np.array(test_power)\n",
    "test_labels=np.array(test_labels)"
   ]
  },
  {
   "cell_type": "code",
   "execution_count": null,
   "metadata": {},
   "outputs": [],
   "source": []
  },
  {
   "cell_type": "code",
   "execution_count": 72,
   "metadata": {},
   "outputs": [],
   "source": [
    "labell=[\"point\",\"point\",\"point\",\"point\",\"point\"]\n",
    "powerr=[0.78,0.79,0.77,0.78,0.76]\n",
    "restt=[0.72,0.71,0.73,0.71,0.74]\n",
    "wristt=[0.68,0.69,0.72,0.67,0.70]\n",
    "pointt=[0.88,0.89,0.87,0.90,0.91]\n",
    "powerr=np.array(powerr)\n",
    "restt=np.array(restt)\n",
    "wristt=np.array(wristt)\n",
    "pointt=np.array(pointt)\n",
    "labell=np.array(labell)"
   ]
  },
  {
   "cell_type": "code",
   "execution_count": 61,
   "metadata": {},
   "outputs": [],
   "source": [
    "encoder=preprocessing.LabelEncoder()\n",
    "encoder.fit(test_labels)\n",
    "encoded_test_labels=encoder.transform(test_labels)\n",
    "encoder.fit(train_labels)\n",
    "encoded_train_labels=encoder.transform(train_labels)"
   ]
  },
  {
   "cell_type": "code",
   "execution_count": null,
   "metadata": {},
   "outputs": [],
   "source": []
  },
  {
   "cell_type": "code",
   "execution_count": 73,
   "metadata": {},
   "outputs": [
    {
     "data": {
      "text/html": [
       "<div>\n",
       "<style scoped>\n",
       "    .dataframe tbody tr th:only-of-type {\n",
       "        vertical-align: middle;\n",
       "    }\n",
       "\n",
       "    .dataframe tbody tr th {\n",
       "        vertical-align: top;\n",
       "    }\n",
       "\n",
       "    .dataframe thead th {\n",
       "        text-align: right;\n",
       "    }\n",
       "</style>\n",
       "<table border=\"1\" class=\"dataframe\">\n",
       "  <thead>\n",
       "    <tr style=\"text-align: right;\">\n",
       "      <th></th>\n",
       "      <th>img_label</th>\n",
       "      <th>power_corr</th>\n",
       "      <th>rest_corr</th>\n",
       "      <th>point_corr</th>\n",
       "      <th>wrist_corr</th>\n",
       "    </tr>\n",
       "  </thead>\n",
       "  <tbody>\n",
       "    <tr>\n",
       "      <th>0</th>\n",
       "      <td>point</td>\n",
       "      <td>0.78</td>\n",
       "      <td>0.72</td>\n",
       "      <td>0.88</td>\n",
       "      <td>0.68</td>\n",
       "    </tr>\n",
       "    <tr>\n",
       "      <th>1</th>\n",
       "      <td>point</td>\n",
       "      <td>0.79</td>\n",
       "      <td>0.71</td>\n",
       "      <td>0.89</td>\n",
       "      <td>0.69</td>\n",
       "    </tr>\n",
       "    <tr>\n",
       "      <th>2</th>\n",
       "      <td>point</td>\n",
       "      <td>0.77</td>\n",
       "      <td>0.73</td>\n",
       "      <td>0.87</td>\n",
       "      <td>0.72</td>\n",
       "    </tr>\n",
       "    <tr>\n",
       "      <th>3</th>\n",
       "      <td>point</td>\n",
       "      <td>0.78</td>\n",
       "      <td>0.71</td>\n",
       "      <td>0.90</td>\n",
       "      <td>0.67</td>\n",
       "    </tr>\n",
       "    <tr>\n",
       "      <th>4</th>\n",
       "      <td>point</td>\n",
       "      <td>0.76</td>\n",
       "      <td>0.74</td>\n",
       "      <td>0.91</td>\n",
       "      <td>0.70</td>\n",
       "    </tr>\n",
       "  </tbody>\n",
       "</table>\n",
       "</div>"
      ],
      "text/plain": [
       "  img_label  power_corr  rest_corr  point_corr  wrist_corr\n",
       "0     point        0.78       0.72        0.88        0.68\n",
       "1     point        0.79       0.71        0.89        0.69\n",
       "2     point        0.77       0.73        0.87        0.72\n",
       "3     point        0.78       0.71        0.90        0.67\n",
       "4     point        0.76       0.74        0.91        0.70"
      ]
     },
     "execution_count": 73,
     "metadata": {},
     "output_type": "execute_result"
    }
   ],
   "source": [
    "df_train=pandas.DataFrame()\n",
    "df_train['label']=train_labels\n",
    "df_train['power']=train_power\n",
    "df_train['rest']=train_rest\n",
    "df_train['point']=train_point\n",
    "df_train['wrist']=train_wrist\n"
   ]
  },
  {
   "cell_type": "code",
   "execution_count": 63,
   "metadata": {},
   "outputs": [],
   "source": [
    "df_test=pandas.DataFrame()\n",
    "df_test['label']=encoded_test_labels\n",
    "df_test['power']=test_power\n",
    "df_test['rest']=test_rest\n",
    "df_test['point']=test_point\n",
    "df_test['wrist']=test_wrist\n"
   ]
  },
  {
   "cell_type": "code",
   "execution_count": 64,
   "metadata": {},
   "outputs": [
    {
     "data": {
      "text/html": [
       "<div>\n",
       "<style scoped>\n",
       "    .dataframe tbody tr th:only-of-type {\n",
       "        vertical-align: middle;\n",
       "    }\n",
       "\n",
       "    .dataframe tbody tr th {\n",
       "        vertical-align: top;\n",
       "    }\n",
       "\n",
       "    .dataframe thead th {\n",
       "        text-align: right;\n",
       "    }\n",
       "</style>\n",
       "<table border=\"1\" class=\"dataframe\">\n",
       "  <thead>\n",
       "    <tr style=\"text-align: right;\">\n",
       "      <th></th>\n",
       "      <th>label</th>\n",
       "      <th>power</th>\n",
       "      <th>rest</th>\n",
       "      <th>point</th>\n",
       "      <th>wrist</th>\n",
       "    </tr>\n",
       "  </thead>\n",
       "  <tbody>\n",
       "    <tr>\n",
       "      <th>0</th>\n",
       "      <td>0</td>\n",
       "      <td>0.988719</td>\n",
       "      <td>0.991866</td>\n",
       "      <td>0.998515</td>\n",
       "      <td>0.981419</td>\n",
       "    </tr>\n",
       "    <tr>\n",
       "      <th>1</th>\n",
       "      <td>0</td>\n",
       "      <td>0.987687</td>\n",
       "      <td>0.990932</td>\n",
       "      <td>0.998051</td>\n",
       "      <td>0.981387</td>\n",
       "    </tr>\n",
       "    <tr>\n",
       "      <th>2</th>\n",
       "      <td>0</td>\n",
       "      <td>0.987712</td>\n",
       "      <td>0.990915</td>\n",
       "      <td>0.998029</td>\n",
       "      <td>0.981414</td>\n",
       "    </tr>\n",
       "    <tr>\n",
       "      <th>3</th>\n",
       "      <td>0</td>\n",
       "      <td>0.987685</td>\n",
       "      <td>0.990879</td>\n",
       "      <td>0.998031</td>\n",
       "      <td>0.981387</td>\n",
       "    </tr>\n",
       "    <tr>\n",
       "      <th>4</th>\n",
       "      <td>0</td>\n",
       "      <td>0.987643</td>\n",
       "      <td>0.990951</td>\n",
       "      <td>0.998112</td>\n",
       "      <td>0.981413</td>\n",
       "    </tr>\n",
       "  </tbody>\n",
       "</table>\n",
       "</div>"
      ],
      "text/plain": [
       "   label     power      rest     point     wrist\n",
       "0      0  0.988719  0.991866  0.998515  0.981419\n",
       "1      0  0.987687  0.990932  0.998051  0.981387\n",
       "2      0  0.987712  0.990915  0.998029  0.981414\n",
       "3      0  0.987685  0.990879  0.998031  0.981387\n",
       "4      0  0.987643  0.990951  0.998112  0.981413"
      ]
     },
     "execution_count": 64,
     "metadata": {},
     "output_type": "execute_result"
    }
   ],
   "source": [
    "df_train.head()"
   ]
  },
  {
   "cell_type": "code",
   "execution_count": 65,
   "metadata": {},
   "outputs": [],
   "source": [
    "x_data = df_train.drop(['label'],axis=1)\n",
    "y_data=df_train['label']\n",
    "x_test=df_test.drop(['label'],axis=1)\n",
    "y_test=df_test['label']"
   ]
  },
  {
   "cell_type": "code",
   "execution_count": 66,
   "metadata": {},
   "outputs": [],
   "source": [
    "knn_clf=KNeighborsClassifier()\n",
    "knn_clf.fit(x_data,y_data)\n",
    "ypred=knn_clf.predict(x_test)"
   ]
  },
  {
   "cell_type": "code",
   "execution_count": 67,
   "metadata": {},
   "outputs": [
    {
     "name": "stdout",
     "output_type": "stream",
     "text": [
      "1.0\n"
     ]
    }
   ],
   "source": [
    "result=accuracy_score(y_test,ypred)\n",
    "print(result)"
   ]
  },
  {
   "cell_type": "code",
   "execution_count": 68,
   "metadata": {},
   "outputs": [],
   "source": [
    "conf_matrix=confusion_matrix(y_test,ypred)"
   ]
  },
  {
   "cell_type": "code",
   "execution_count": 69,
   "metadata": {},
   "outputs": [
    {
     "data": {
      "text/plain": [
       "<AxesSubplot: >"
      ]
     },
     "execution_count": 69,
     "metadata": {},
     "output_type": "execute_result"
    },
    {
     "data": {
      "image/png": "[encoded data removed]",
      "text/plain": [
       "<Figure size 640x480 with 2 Axes>"
      ]
     },
     "metadata": {},
     "output_type": "display_data"
    }
   ],
   "source": [
    "sns.heatmap(conf_matrix, annot=True)"
   ]
  }
 ],
 "metadata": {
  "kernelspec": {
   "display_name": "Python 3",
   "language": "python",
   "name": "python3"
  },
  "language_info": {
   "codemirror_mode": {
    "name": "ipython",
    "version": 3
   },
   "file_extension": ".py",
   "mimetype": "text/x-python",
   "name": "python",
   "nbconvert_exporter": "python",
   "pygments_lexer": "ipython3",
   "version": "3.10.9"
  },
  "orig_nbformat": 4,
  "vscode": {
   "interpreter": {
    "hash": "e7370f93d1d0cde622a1f8e1c04877d8463912d04d973331ad4851f04de6915a"
   }
  }
 },
 "nbformat": 4,
 "nbformat_minor": 2
}
